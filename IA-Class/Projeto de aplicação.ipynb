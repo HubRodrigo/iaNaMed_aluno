{
 "cells": [
  {
   "cell_type": "markdown",
   "metadata": {},
   "source": [
    "# Estrutura proposta para o projeto de aplicação"
   ]
  },
  {
   "cell_type": "markdown",
   "metadata": {},
   "source": [
    "# Motivação e objetivo\n",
    "\n",
    "Descrever nos próximos parágrafos a motivação (por quê) e o objetivo (o quê) do seu projeto de aplicação a ser apresentado para a disciplina."
   ]
  },
  {
   "cell_type": "markdown",
   "metadata": {},
   "source": [
    "# Descrição do dataset\n",
    "- Descrever os dados do dataset escolhido para estimar o modelo supervisionado.\n",
    "- Podem ser usados métodos de visualização de dados, resumo de dados (estatística descritiva), medidas de correlação entre as variáveis.\n",
    "- Inserir o link externo da versão original do dataset."
   ]
  },
  {
   "cell_type": "code",
   "execution_count": null,
   "metadata": {},
   "outputs": [],
   "source": [
    "# Desenvolver o código aqui."
   ]
  },
  {
   "cell_type": "markdown",
   "metadata": {},
   "source": [
    "# Preparação dos dados\n",
    "* Procure comentar toda a sequencia do código de tratamento dos dados.\n",
    "* Podem ser usadas funções ou bibliotecas de apoio.\n",
    "* Como preparação dos dados, incluem técnicas de:\n",
    "    - limpeza de dados.\n",
    "    - reestruturação de chaves.\n",
    "    - deduplicação de dados.\n",
    "    - validação de dados.\n",
    "    - revisão de formato.\n",
    "    - derivação de dados.\n",
    "    - agregação de dados.\n",
    "    - integração de dados."
   ]
  },
  {
   "cell_type": "code",
   "execution_count": null,
   "metadata": {},
   "outputs": [],
   "source": [
    "# Desenvolver o código aqui."
   ]
  },
  {
   "cell_type": "markdown",
   "metadata": {},
   "source": [
    "# Treinamento do modelo de aprendizado de máquina\n",
    "- Seleção do(s) modelo(s) supervisionado(s).\n",
    "- Grid com os hiperparâmetros.\n",
    "- Amostras usadas para treinamento, validação e teste, e método de validação usado.\n",
    "- Medidas de desempenho usadas para otimização."
   ]
  },
  {
   "cell_type": "code",
   "execution_count": null,
   "metadata": {},
   "outputs": [],
   "source": [
    "# Desenvolver o código aqui."
   ]
  },
  {
   "cell_type": "markdown",
   "metadata": {},
   "source": [
    "# Avaliação\n",
    "- Matriz confusão.\n",
    "- Medidas de desempenho usadas para o teste.\n",
    "- Visualização (Curva ROC)"
   ]
  },
  {
   "cell_type": "code",
   "execution_count": null,
   "metadata": {},
   "outputs": [],
   "source": [
    "# Desenvolver o código aqui."
   ]
  },
  {
   "cell_type": "markdown",
   "metadata": {},
   "source": [
    "# Conclusão\n",
    "- Dificuldades encontradas\n",
    "- Próximos passos."
   ]
  }
 ],
 "metadata": {
  "language_info": {
   "name": "python"
  }
 },
 "nbformat": 4,
 "nbformat_minor": 2
}
